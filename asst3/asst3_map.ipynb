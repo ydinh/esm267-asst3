{
 "cells": [
  {
   "cell_type": "markdown",
   "metadata": {},
   "source": [
    "### Yvonne Dinh\n",
    "### ESM 267: Assignment 3\n",
    "### Lakes and Waterbody Areas in Bloomington, IN"
   ]
  },
  {
   "cell_type": "code",
   "execution_count": 9,
   "metadata": {},
   "outputs": [],
   "source": [
    "#define the layer ID with the code when it was imported\n",
    "layer_1_id = \"5c0ab05b37e2445782fb7484d6f00af3\""
   ]
  },
  {
   "cell_type": "code",
   "execution_count": 10,
   "metadata": {},
   "outputs": [],
   "source": [
    "#specify the ArcGIS online service to connect to\n",
    "my_server = \"https://ucsb.maps.arcgis.com\" # this is the UCSB institutional ArcGIS Online server\n",
    "\n",
    "#define the ArcGIS client ID associated with my account\n",
    "my_App_ID = \"IiDO1dauDsJPueGE\""
   ]
  },
  {
   "cell_type": "code",
   "execution_count": 11,
   "metadata": {},
   "outputs": [],
   "source": [
    "#import arcgis so this can run\n",
    "from arcgis.gis import GIS"
   ]
  },
  {
   "cell_type": "code",
   "execution_count": 13,
   "metadata": {},
   "outputs": [
    {
     "name": "stdout",
     "output_type": "stream",
     "text": [
      "Please sign in to your GIS and paste the code that is obtained below.\n",
      "If a web browser does not automatically open, please navigate to the URL below yourself instead.\n",
      "Opening web browser to navigate to: https://ucsb.maps.arcgis.com/sharing/rest//oauth2/authorize?response_type=code&client_id=IiDO1dauDsJPueGE&redirect_uri=urn%3Aietf%3Awg%3Aoauth%3A2.0%3Aoob&state=k8QZZ8aVyFu9sSA7dFgbv7By6hoirn\n"
     ]
    },
    {
     "name": "stdin",
     "output_type": "stream",
     "text": [
      "Enter code obtained on signing in using SAML:  ························································································································································································································\n"
     ]
    },
    {
     "name": "stderr",
     "output_type": "stream",
     "text": [
      "/Users/yvonnedinh/anaconda3/envs/arcgis/lib/python3.8/site-packages/urllib3/connectionpool.py:981: InsecureRequestWarning: Unverified HTTPS request is being made to host 'ucsb.maps.arcgis.com'. Adding certificate verification is strongly advised. See: https://urllib3.readthedocs.io/en/latest/advanced-usage.html#ssl-warnings\n",
      "  warnings.warn(\n"
     ]
    }
   ],
   "source": [
    "#create a GIS instance on the ArcGIS Online server\n",
    "my_gis = GIS(my_server, client_id = my_App_ID)"
   ]
  },
  {
   "cell_type": "markdown",
   "metadata": {},
   "source": [
    "# Lakes and Waterbody Areas in Bloomington, IN\n",
    "##### This map visualizes lakes and waterbodies within the boundaries of Bloomington, Indiana. Attributes of the shapefiles include area and length. \n",
    "##### Data was taken from data.gov [here](https://catalog.data.gov/dataset/lakes-and-waterbody-areas-gis-data) and is part of the larger [GIS hydrology layer](https://catalog.data.gov/dataset/hydrology-gis-data) for the City of Bloomington, Indiana."
   ]
  },
  {
   "cell_type": "code",
   "execution_count": 17,
   "metadata": {},
   "outputs": [
    {
     "data": {
      "application/vnd.jupyter.widget-view+json": {
       "model_id": "3ad3d51656d74ae6bd38c78d0bb0a0bb",
       "version_major": 2,
       "version_minor": 0
      },
      "text/plain": [
       "MapView(layout=Layout(height='400px', width='100%'))"
      ]
     },
     "metadata": {},
     "output_type": "display_data"
    },
    {
     "data": {
      "text/html": [
       "<div class=\"map-static-img-preview-fdc6088b-533d-4036-bf22-6ecb958e577e\"><img src=\"\"></img></div>"
      ],
      "text/plain": [
       "<IPython.core.display.HTML object>"
      ]
     },
     "metadata": {},
     "output_type": "display_data"
    },
    {
     "data": {
      "text/html": [
       "<div class=\"map-html-embed-preview-fdc6088b-533d-4036-bf22-6ecb958e577e\"></div>"
      ],
      "text/plain": [
       "<IPython.core.display.HTML object>"
      ]
     },
     "metadata": {},
     "output_type": "display_data"
    }
   ],
   "source": [
    "#define the inital map and call it\n",
    "my_map = my_gis.map()\n",
    "my_map"
   ]
  },
  {
   "cell_type": "code",
   "execution_count": 18,
   "metadata": {},
   "outputs": [
    {
     "data": {
      "text/html": [
       "<div class=\"item_container\" style=\"height: auto; overflow: hidden; border: 1px solid #cfcfcf; border-radius: 2px; background: #f6fafa; line-height: 1.21429em; padding: 10px;\">\n",
       "                    <div class=\"item_left\" style=\"width: 210px; float: left;\">\n",
       "                       <a href='https://ucsb.maps.arcgis.com/home/item.html?id=5c0ab05b37e2445782fb7484d6f00af3' target='_blank'>\n",
       "                        <img src='http://static.arcgis.com/images/desktopapp.png' class=\"itemThumbnail\">\n",
       "                       </a>\n",
       "                    </div>\n",
       "\n",
       "                    <div class=\"item_right\"     style=\"float: none; width: auto; overflow: hidden;\">\n",
       "                        <a href='https://ucsb.maps.arcgis.com/home/item.html?id=5c0ab05b37e2445782fb7484d6f00af3' target='_blank'><b>Lakes and Waterbody Areas in Bloomington, IN</b>\n",
       "                        </a>\n",
       "                        <br/><img src='https://ucsb.maps.arcgis.com/home/js/jsapi/esri/css/images/item_type_icons/featureshosted16.png' style=\"vertical-align:middle;\">Feature Layer Collection by ydinh@umail.ucsb.edu_ucsb\n",
       "                        <br/>Last Modified: December 18, 2020\n",
       "                        <br/>0 comments, 0 views\n",
       "                    </div>\n",
       "                </div>\n",
       "                "
      ],
      "text/plain": [
       "<Item title:\"Lakes and Waterbody Areas in Bloomington, IN\" type:Feature Layer Collection owner:ydinh@umail.ucsb.edu_ucsb>"
      ]
     },
     "execution_count": 18,
     "metadata": {},
     "output_type": "execute_result"
    }
   ],
   "source": [
    "#define the layer and call it to see it\n",
    "layer_1 = my_gis.content.get(layer_1_id)\n",
    "layer_1"
   ]
  },
  {
   "cell_type": "code",
   "execution_count": 19,
   "metadata": {},
   "outputs": [],
   "source": [
    "#add the layer to the map and zoom to it\n",
    "my_map.add_layer(layer_1)\n",
    "my_map.zoom_to_layer(layer_1)"
   ]
  },
  {
   "cell_type": "code",
   "execution_count": null,
   "metadata": {},
   "outputs": [],
   "source": []
  }
 ],
 "metadata": {
  "kernelspec": {
   "display_name": "Python 3",
   "language": "python",
   "name": "python3"
  },
  "language_info": {
   "codemirror_mode": {
    "name": "ipython",
    "version": 3
   },
   "file_extension": ".py",
   "mimetype": "text/x-python",
   "name": "python",
   "nbconvert_exporter": "python",
   "pygments_lexer": "ipython3",
   "version": "3.8.5"
  }
 },
 "nbformat": 4,
 "nbformat_minor": 4
}
