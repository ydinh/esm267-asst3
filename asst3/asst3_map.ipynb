{
 "cells": [
  {
   "cell_type": "code",
   "execution_count": 1,
   "metadata": {},
   "outputs": [],
   "source": [
    "layer_1_id = \"f12e861314e74f4685db775c114b16fc\""
   ]
  },
  {
   "cell_type": "code",
   "execution_count": 2,
   "metadata": {},
   "outputs": [],
   "source": [
    "my_server = \"https://ucsb.maps.arcgis.com\" # this is the UCSB institutional ArcGIS Online server\n",
    "my_App_ID = \"IiDO1dauDsJPueGE\""
   ]
  },
  {
   "cell_type": "code",
   "execution_count": 3,
   "metadata": {},
   "outputs": [],
   "source": [
    "from arcgis.gis import GIS"
   ]
  },
  {
   "cell_type": "code",
   "execution_count": 4,
   "metadata": {},
   "outputs": [
    {
     "name": "stdout",
     "output_type": "stream",
     "text": [
      "Please sign in to your GIS and paste the code that is obtained below.\n",
      "If a web browser does not automatically open, please navigate to the URL below yourself instead.\n",
      "Opening web browser to navigate to: https://ucsb.maps.arcgis.com/sharing/rest//oauth2/authorize?response_type=code&client_id=IiDO1dauDsJPueGE&redirect_uri=urn%3Aietf%3Awg%3Aoauth%3A2.0%3Aoob&state=CCHKRDTZhttGJwQVLJp2e3jrjtrO9j\n"
     ]
    },
    {
     "name": "stdin",
     "output_type": "stream",
     "text": [
      "Enter code obtained on signing in using SAML:  ························································································································································································································\n"
     ]
    },
    {
     "name": "stderr",
     "output_type": "stream",
     "text": [
      "/Users/yvonnedinh/anaconda3/envs/arcgis/lib/python3.8/site-packages/urllib3/connectionpool.py:981: InsecureRequestWarning: Unverified HTTPS request is being made to host 'ucsb.maps.arcgis.com'. Adding certificate verification is strongly advised. See: https://urllib3.readthedocs.io/en/latest/advanced-usage.html#ssl-warnings\n",
      "  warnings.warn(\n"
     ]
    }
   ],
   "source": [
    "my_gis = GIS(my_server, client_id = my_App_ID)"
   ]
  },
  {
   "cell_type": "code",
   "execution_count": 5,
   "metadata": {},
   "outputs": [
    {
     "data": {
      "application/vnd.jupyter.widget-view+json": {
       "model_id": "bc65019536c74546aa21290194e63150",
       "version_major": 2,
       "version_minor": 0
      },
      "text/plain": [
       "MapView(layout=Layout(height='400px', width='100%'))"
      ]
     },
     "metadata": {},
     "output_type": "display_data"
    },
    {
     "data": {
      "text/html": [
       "<div class=\"map-static-img-preview-91eef4b8-4d25-4cad-9128-5028b0785899\"><img src=\"\"></img></div>"
      ],
      "text/plain": [
       "<IPython.core.display.HTML object>"
      ]
     },
     "metadata": {},
     "output_type": "display_data"
    },
    {
     "data": {
      "text/html": [
       "<div class=\"map-html-embed-preview-91eef4b8-4d25-4cad-9128-5028b0785899\"></div>"
      ],
      "text/plain": [
       "<IPython.core.display.HTML object>"
      ]
     },
     "metadata": {},
     "output_type": "display_data"
    }
   ],
   "source": [
    "my_map = my_gis.map()\n",
    "my_map"
   ]
  },
  {
   "cell_type": "code",
   "execution_count": 6,
   "metadata": {},
   "outputs": [
    {
     "data": {
      "text/html": [
       "<div class=\"item_container\" style=\"height: auto; overflow: hidden; border: 1px solid #cfcfcf; border-radius: 2px; background: #f6fafa; line-height: 1.21429em; padding: 10px;\">\n",
       "                    <div class=\"item_left\" style=\"width: 210px; float: left;\">\n",
       "                       <a href='https://ucsb.maps.arcgis.com/home/item.html?id=f12e861314e74f4685db775c114b16fc' target='_blank'>\n",
       "                        <img src='data:image/png;base64,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' width='200' height='133' class=\"itemThumbnail\">\n",
       "                       </a>\n",
       "                    </div>\n",
       "\n",
       "                    <div class=\"item_right\"     style=\"float: none; width: auto; overflow: hidden;\">\n",
       "                        <a href='https://ucsb.maps.arcgis.com/home/item.html?id=f12e861314e74f4685db775c114b16fc' target='_blank'><b>Bicycle and Pedestrian Trail and Paths</b>\n",
       "                        </a>\n",
       "                        <br/><img src='https://ucsb.maps.arcgis.com/home/js/jsapi/esri/css/images/item_type_icons/featureshosted16.png' style=\"vertical-align:middle;\">Feature Layer Collection by ydinh@umail.ucsb.edu_ucsb\n",
       "                        <br/>Last Modified: December 16, 2020\n",
       "                        <br/>0 comments, 2 views\n",
       "                    </div>\n",
       "                </div>\n",
       "                "
      ],
      "text/plain": [
       "<Item title:\"Bicycle and Pedestrian Trail and Paths\" type:Feature Layer Collection owner:ydinh@umail.ucsb.edu_ucsb>"
      ]
     },
     "execution_count": 6,
     "metadata": {},
     "output_type": "execute_result"
    }
   ],
   "source": [
    "layer_1 = my_gis.content.get(layer_1_id)\n",
    "layer_1"
   ]
  },
  {
   "cell_type": "code",
   "execution_count": 7,
   "metadata": {},
   "outputs": [],
   "source": [
    "my_map.add_layer(layer_1)\n",
    "my_map.zoom_to_layer(layer_1)"
   ]
  },
  {
   "cell_type": "code",
   "execution_count": null,
   "metadata": {},
   "outputs": [],
   "source": []
  }
 ],
 "metadata": {
  "kernelspec": {
   "display_name": "Python 3",
   "language": "python",
   "name": "python3"
  },
  "language_info": {
   "codemirror_mode": {
    "name": "ipython",
    "version": 3
   },
   "file_extension": ".py",
   "mimetype": "text/x-python",
   "name": "python",
   "nbconvert_exporter": "python",
   "pygments_lexer": "ipython3",
   "version": "3.8.5"
  }
 },
 "nbformat": 4,
 "nbformat_minor": 4
}
